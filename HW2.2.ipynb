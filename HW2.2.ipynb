{
  "nbformat": 4,
  "nbformat_minor": 0,
  "metadata": {
    "colab": {
      "provenance": [],
      "authorship_tag": "ABX9TyMA5CHgRw0HIzrlfk7h+tz3",
      "include_colab_link": true
    },
    "kernelspec": {
      "name": "python3",
      "display_name": "Python 3"
    },
    "language_info": {
      "name": "python"
    }
  },
  "cells": [
    {
      "cell_type": "markdown",
      "metadata": {
        "id": "view-in-github",
        "colab_type": "text"
      },
      "source": [
        "<a href=\"https://colab.research.google.com/github/Andrei198203/Data_Science_HW_2/blob/main/HW2.2.ipynb\" target=\"_parent\"><img src=\"https://colab.research.google.com/assets/colab-badge.svg\" alt=\"Open In Colab\"/></a>"
      ]
    },
    {
      "cell_type": "markdown",
      "source": [
        "Task1"
      ],
      "metadata": {
        "id": "ATnb9-7ikXxP"
      }
    },
    {
      "cell_type": "code",
      "execution_count": 38,
      "metadata": {
        "id": "r-2chijrhDZC"
      },
      "outputs": [],
      "source": [
        "import pandas as pd\n",
        "\n",
        "# 1. Read the 2017_jun_final.csv file using the read_csv method\n",
        "url = \"https://docs.google.com/spreadsheets/d/1bclX5PbqE8zR1-wOSM3ZTFa53sIC7RXqwty7Abmw9yQ/export?format=csv&id=1bclX5PbqE8zR1-wOSM3ZTFa53sIC7RXqwty7Abmw9yQ\"\n",
        "df = pd.read_csv(url)"
      ]
    },
    {
      "cell_type": "markdown",
      "source": [
        "Task2"
      ],
      "metadata": {
        "id": "5sJx9Sb2kc39"
      }
    },
    {
      "cell_type": "code",
      "source": [
        "# 2. Read the resulting table using the head method\n",
        "print(\"First rows of the table:\")\n",
        "print(df.head())"
      ],
      "metadata": {
        "colab": {
          "base_uri": "https://localhost:8080/"
        },
        "id": "_5Uv_T9ykeTY",
        "outputId": "92696904-64fc-4b5b-ade3-cf86b58c8d1b"
      },
      "execution_count": 39,
      "outputs": [
        {
          "output_type": "stream",
          "name": "stdout",
          "text": [
            "First rows of the table:\n",
            "   N                    Посада Мова програмування Спеціалізація  \\\n",
            "0  1        Junior QA engineer                NaN     Manual QA   \n",
            "1  2        Junior QA engineer                NaN     Manual QA   \n",
            "2  3         Software Engineer            C#/.NET           NaN   \n",
            "3  4         Software Engineer         JavaScript           NaN   \n",
            "4  5  Senior Software Engineer         JavaScript           NaN   \n",
            "\n",
            "  Загальний досвід роботи Досвід роботи на поточному місці  \\\n",
            "0                     0.5                              0.5   \n",
            "1         менше 3 місяців                  менше 3 місяців   \n",
            "2                       4                                1   \n",
            "3                       5                                4   \n",
            "4       10 і більше років                              0.5   \n",
            "\n",
            "   Зарплата на місяць  Зміна зарплати за 12 місяців   Місто   Розмір компанії  \\\n",
            "0                 400                             0  Харків        до 10 осіб   \n",
            "1                 430                           130  Харків  більше 1000 осіб   \n",
            "2                2500                           800    Київ      до 1000 осіб   \n",
            "3                2000                           400   Одеса       до 200 осіб   \n",
            "4                4500                           500    Інше        до 10 осіб   \n",
            "\n",
            "   ... Ще студент                    Рівень англійської  \\\n",
            "0  ...       True    Pre-intermediate (нище середнього)   \n",
            "1  ...       True  Upper-Intermediate (вище середнього)   \n",
            "2  ...      False               Intermediate (середній)   \n",
            "3  ...      False    Pre-intermediate (нище середнього)   \n",
            "4  ...      False               Intermediate (середній)   \n",
            "\n",
            "                   Предметна область      Дата заповнення  \\\n",
            "0                      iOS,eCommerce  12/06/2017 12:38:08   \n",
            "1                       Веб-розробка  12/06/2017 12:42:51   \n",
            "2  Веб-розробка,Корпоративні системи  12/06/2017 13:02:47   \n",
            "3  Desktop Applications,Веб-розробка  12/06/2017 13:03:01   \n",
            "4  Desktop Applications,Веб-розробка  12/06/2017 13:03:47   \n",
            "\n",
            "                                          User.Agent   exp current_job_exp  \\\n",
            "0  Mozilla/5.0 (Windows NT 10.0; Win64; x64) Appl...   0.5             0.5   \n",
            "1  Mozilla/5.0 (iPad; CPU OS 10_2_1 like Mac OS X...   0.0             0.0   \n",
            "2  Mozilla/5.0 (Windows NT 10.0; Win64; x64) Appl...   4.0             1.0   \n",
            "3  Mozilla/5.0 (Windows NT 6.1; Win64; x64) Apple...   5.0             4.0   \n",
            "4  Mozilla/5.0 (iPhone; CPU iPhone OS 10_3_2 like...  10.0             0.5   \n",
            "\n",
            "  salary Валюта  cls  \n",
            "0    400    NaN   QA  \n",
            "1    430    NaN   QA  \n",
            "2   2500    NaN  DEV  \n",
            "3   2000    NaN  DEV  \n",
            "4   4500    NaN  DEV  \n",
            "\n",
            "[5 rows x 25 columns]\n"
          ]
        }
      ]
    },
    {
      "cell_type": "markdown",
      "source": [
        "Task3"
      ],
      "metadata": {
        "id": "r7iqtIcOlbte"
      }
    },
    {
      "cell_type": "code",
      "source": [
        "# Define the size of a table using the shape method\n",
        "print(\"Table size:\", df.shape)"
      ],
      "metadata": {
        "colab": {
          "base_uri": "https://localhost:8080/"
        },
        "id": "738S5AdEldkd",
        "outputId": "bb8b8487-1f91-41fc-b6c9-db30228d5a60"
      },
      "execution_count": 40,
      "outputs": [
        {
          "output_type": "stream",
          "name": "stdout",
          "text": [
            "Table size: (8704, 25)\n"
          ]
        }
      ]
    },
    {
      "cell_type": "markdown",
      "source": [
        "Task4"
      ],
      "metadata": {
        "id": "wpX-VGOnl4Wm"
      }
    },
    {
      "cell_type": "code",
      "source": [
        "# Define the types of all columns using dataframe.dtypes\n",
        "print(\"Column data types:\")\n",
        "print(df.dtypes)"
      ],
      "metadata": {
        "colab": {
          "base_uri": "https://localhost:8080/"
        },
        "id": "iY-gkfg4l55v",
        "outputId": "daa057fd-b1d9-4d4a-fc4d-05a0588ccf00"
      },
      "execution_count": 41,
      "outputs": [
        {
          "output_type": "stream",
          "name": "stdout",
          "text": [
            "Column data types:\n",
            "N                                     int64\n",
            "Посада                               object\n",
            "Мова програмування                   object\n",
            "Спеціалізація                        object\n",
            "Загальний досвід роботи              object\n",
            "Досвід роботи на поточному місці     object\n",
            "Зарплата на місяць                    int64\n",
            "Зміна зарплати за 12 місяців          int64\n",
            "Місто                                object\n",
            "Розмір компанії                      object\n",
            "Тип компанії                         object\n",
            "Стать                                object\n",
            "Вік                                   int64\n",
            "Освіта                               object\n",
            "Університет                          object\n",
            "Ще студент                             bool\n",
            "Рівень англійської                   object\n",
            "Предметна область                    object\n",
            "Дата заповнення                      object\n",
            "User.Agent                           object\n",
            "exp                                 float64\n",
            "current_job_exp                     float64\n",
            "salary                                int64\n",
            "Валюта                               object\n",
            "cls                                  object\n",
            "dtype: object\n"
          ]
        }
      ]
    },
    {
      "cell_type": "markdown",
      "source": [
        "Task5"
      ],
      "metadata": {
        "id": "TS7Rg0HAmOy_"
      }
    },
    {
      "cell_type": "code",
      "source": [
        "# Calculate the proportion of blanks in each column\n",
        "missing_percentage = df.isnull().sum() / len(df) * 100\n",
        "print(\"Proportion of spaces in each column:\")\n",
        "print(missing_percentage)"
      ],
      "metadata": {
        "colab": {
          "base_uri": "https://localhost:8080/"
        },
        "id": "c-l9-ZbFmRLO",
        "outputId": "fc872d59-d30e-48d1-f742-349596895b25"
      },
      "execution_count": 42,
      "outputs": [
        {
          "output_type": "stream",
          "name": "stdout",
          "text": [
            "Proportion of spaces in each column:\n",
            "N                                    0.000000\n",
            "Посада                               0.000000\n",
            "Мова програмування                  44.232537\n",
            "Спеціалізація                       82.938879\n",
            "Загальний досвід роботи              0.000000\n",
            "Досвід роботи на поточному місці     0.000000\n",
            "Зарплата на місяць                   0.000000\n",
            "Зміна зарплати за 12 місяців         0.000000\n",
            "Місто                                0.000000\n",
            "Розмір компанії                      0.000000\n",
            "Тип компанії                         0.000000\n",
            "Стать                                0.000000\n",
            "Вік                                  0.000000\n",
            "Освіта                               0.000000\n",
            "Університет                          4.113051\n",
            "Ще студент                           0.000000\n",
            "Рівень англійської                   0.000000\n",
            "Предметна область                    2.562040\n",
            "Дата заповнення                      0.000000\n",
            "User.Agent                           0.000000\n",
            "exp                                  0.000000\n",
            "current_job_exp                      0.000000\n",
            "salary                               0.000000\n",
            "Валюта                              99.885110\n",
            "cls                                 18.083640\n",
            "dtype: float64\n"
          ]
        }
      ]
    },
    {
      "cell_type": "markdown",
      "source": [
        "Task6"
      ],
      "metadata": {
        "id": "BX9PUCCAnE0s"
      }
    },
    {
      "cell_type": "code",
      "source": [
        "# Delete all columns with spaces, except for the \"Programming language\" column\n",
        "columns_to_drop = df.columns[df.isnull().any() & (df.columns != 'Мова програмування')]\n",
        "df = df.drop(columns_to_drop, axis=1)"
      ],
      "metadata": {
        "id": "1nyjK79VnGJ_"
      },
      "execution_count": 46,
      "outputs": []
    },
    {
      "cell_type": "markdown",
      "source": [
        "Task7"
      ],
      "metadata": {
        "id": "L10_5FeonbGH"
      }
    },
    {
      "cell_type": "code",
      "source": [
        "# Calculate the proportion of spaces in each column again\n",
        "missing_percentage_after_drop = df.isnull().sum() / len(df) * 100\n",
        "print(\"Proportion of spaces in each column after deletion:\")\n",
        "print(missing_percentage_after_drop)"
      ],
      "metadata": {
        "colab": {
          "base_uri": "https://localhost:8080/"
        },
        "id": "04Df9Y7NncbA",
        "outputId": "f9158526-95b9-42df-de7f-404c1cb1a7b3"
      },
      "execution_count": 47,
      "outputs": [
        {
          "output_type": "stream",
          "name": "stdout",
          "text": [
            "Proportion of spaces in each column after deletion:\n",
            "N                                    0.000000\n",
            "Посада                               0.000000\n",
            "Мова програмування                  44.232537\n",
            "Загальний досвід роботи              0.000000\n",
            "Досвід роботи на поточному місці     0.000000\n",
            "Зарплата на місяць                   0.000000\n",
            "Зміна зарплати за 12 місяців         0.000000\n",
            "Місто                                0.000000\n",
            "Розмір компанії                      0.000000\n",
            "Тип компанії                         0.000000\n",
            "Стать                                0.000000\n",
            "Вік                                  0.000000\n",
            "Освіта                               0.000000\n",
            "Ще студент                           0.000000\n",
            "Рівень англійської                   0.000000\n",
            "Дата заповнення                      0.000000\n",
            "User.Agent                           0.000000\n",
            "exp                                  0.000000\n",
            "current_job_exp                      0.000000\n",
            "salary                               0.000000\n",
            "dtype: float64\n"
          ]
        }
      ]
    },
    {
      "cell_type": "markdown",
      "source": [
        "Task8"
      ],
      "metadata": {
        "id": "SfSSbLLmoJeV"
      }
    },
    {
      "cell_type": "code",
      "source": [
        "# Delete all rows in the source table using the dropna method\n",
        "df.dropna(inplace=True)"
      ],
      "metadata": {
        "id": "00WaFpC3oLXq"
      },
      "execution_count": 48,
      "outputs": []
    },
    {
      "cell_type": "markdown",
      "source": [
        "Task9"
      ],
      "metadata": {
        "id": "_gub9ytboZLf"
      }
    },
    {
      "cell_type": "code",
      "source": [
        "# Define a new table size using the shape method\n",
        "print(\"New table size:\", df.shape)"
      ],
      "metadata": {
        "colab": {
          "base_uri": "https://localhost:8080/"
        },
        "id": "tR4zweowoa2z",
        "outputId": "047d9415-030b-46ac-d9fc-047f464d87f7"
      },
      "execution_count": 49,
      "outputs": [
        {
          "output_type": "stream",
          "name": "stdout",
          "text": [
            "New table size: (4854, 20)\n"
          ]
        }
      ]
    },
    {
      "cell_type": "markdown",
      "source": [
        "Task10"
      ],
      "metadata": {
        "id": "4B4Px1I9qMet"
      }
    },
    {
      "cell_type": "code",
      "source": [
        "# 10. Створіть нову таблицю python_data, в якій будуть тільки рядки зі спеціалістами, які вказали мову програмування Python.\n",
        "python_data = df[df['Мова програмування'] == 'Python']"
      ],
      "metadata": {
        "id": "6zpSZLe-qOs1"
      },
      "execution_count": 50,
      "outputs": []
    },
    {
      "cell_type": "markdown",
      "source": [
        "Task11"
      ],
      "metadata": {
        "id": "w50u3J274BHK"
      }
    },
    {
      "cell_type": "code",
      "source": [
        "# Determine the size of the python_data table using the shape method.\n",
        "print(\"The size of the python_data table:\", python_data.shape)"
      ],
      "metadata": {
        "colab": {
          "base_uri": "https://localhost:8080/"
        },
        "id": "LxY2BXQV4D7Q",
        "outputId": "8cda0edc-3cc6-432f-eb4a-ca883c3e18a7"
      },
      "execution_count": 51,
      "outputs": [
        {
          "output_type": "stream",
          "name": "stdout",
          "text": [
            "Розмір таблиці python_data: (207, 20)\n"
          ]
        }
      ]
    },
    {
      "cell_type": "markdown",
      "source": [
        "Task12"
      ],
      "metadata": {
        "id": "AQWEMWWx4q0J"
      }
    },
    {
      "cell_type": "code",
      "source": [
        "# Using the groupby method, group by the \"Position\" column.\n",
        "grouped_data = python_data.groupby('Посада')"
      ],
      "metadata": {
        "id": "rP4vx5uw4tgR"
      },
      "execution_count": 53,
      "outputs": []
    },
    {
      "cell_type": "markdown",
      "source": [
        "Task13"
      ],
      "metadata": {
        "id": "R_Nc7LsLE6ep"
      }
    },
    {
      "cell_type": "code",
      "source": [
        "# 13. Створіть новий DataFrame, де для згрупованих даних за стовпчиком \"Посада\", виконайте агрегацію даних за допомогою методу agg і знайдіть мінімальне та максимальне значення у стовпчику \"Зарплата.в.місяць\".\n",
        "agg_data = grouped_data.agg({'Зарплата на місяць': ['min', 'max']})\n",
        "print(\"Aggregated data by position:\")\n",
        "print(agg_data)"
      ],
      "metadata": {
        "colab": {
          "base_uri": "https://localhost:8080/"
        },
        "id": "-S0_y6jVE84o",
        "outputId": "f3c9150d-f96d-4ff1-a886-c0713f17d414"
      },
      "execution_count": 55,
      "outputs": [
        {
          "output_type": "stream",
          "name": "stdout",
          "text": [
            "Aggregated data by position:\n",
            "                         Зарплата на місяць      \n",
            "                                        min   max\n",
            "Посада                                           \n",
            "Junior Software Engineer                100  1250\n",
            "Senior Software Engineer               1300  9200\n",
            "Software Engineer                       500  5400\n",
            "System Architect                       3000  5000\n",
            "Technical Lead                         1425  6200\n"
          ]
        }
      ]
    },
    {
      "cell_type": "markdown",
      "source": [
        "Task14"
      ],
      "metadata": {
        "id": "e5WJHVwWGLfs"
      }
    },
    {
      "cell_type": "code",
      "source": [
        "# Create a fill_avg_salary function that returns the average salary per month.\n",
        "# Use it for the apply method and create a new column \"avg\"\n",
        "def fill_avg_salary(group):\n",
        "    return group.mean()\n",
        "\n",
        "python_data_copy = python_data.copy()  # Creating a copy of a DataFrame\n",
        "python_data_copy['avg'] = python_data_copy.groupby('Посада')['Зарплата на місяць'].apply(fill_avg_salary)"
      ],
      "metadata": {
        "id": "h28cvB6UGON-"
      },
      "execution_count": 58,
      "outputs": []
    },
    {
      "cell_type": "markdown",
      "source": [
        "Task15"
      ],
      "metadata": {
        "id": "rze01DmVJGc4"
      }
    },
    {
      "cell_type": "code",
      "source": [
        "# Create descriptive statistics using the describe method for a new column.\n",
        "print(\"Descriptive statistics for the new column:\")\n",
        "print(python_data['avg'].describe())"
      ],
      "metadata": {
        "colab": {
          "base_uri": "https://localhost:8080/"
        },
        "id": "K0ZrZEoeJIBm",
        "outputId": "0affa13a-1b3a-458f-856b-53d6133a477c"
      },
      "execution_count": 60,
      "outputs": [
        {
          "output_type": "stream",
          "name": "stdout",
          "text": [
            "Descriptive statistics for the new column:\n",
            "count    0.0\n",
            "mean     NaN\n",
            "std      NaN\n",
            "min      NaN\n",
            "25%      NaN\n",
            "50%      NaN\n",
            "75%      NaN\n",
            "max      NaN\n",
            "Name: avg, dtype: float64\n"
          ]
        }
      ]
    },
    {
      "cell_type": "markdown",
      "source": [
        "Task16"
      ],
      "metadata": {
        "id": "kZQqxAMiKL7u"
      }
    },
    {
      "cell_type": "code",
      "source": [
        "# Save the resulting table to a CSV file\n",
        "python_data.to_csv('python_data.csv', index=False)"
      ],
      "metadata": {
        "id": "MLdkc-HLKOCN"
      },
      "execution_count": 62,
      "outputs": []
    }
  ]
}
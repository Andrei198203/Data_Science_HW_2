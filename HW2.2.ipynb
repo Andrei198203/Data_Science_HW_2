{
  "nbformat": 4,
  "nbformat_minor": 0,
  "metadata": {
    "colab": {
      "provenance": [],
      "authorship_tag": "ABX9TyNvI2PIar011J9I+0zo/TE5",
      "include_colab_link": true
    },
    "kernelspec": {
      "name": "python3",
      "display_name": "Python 3"
    },
    "language_info": {
      "name": "python"
    }
  },
  "cells": [
    {
      "cell_type": "markdown",
      "metadata": {
        "id": "view-in-github",
        "colab_type": "text"
      },
      "source": [
        "<a href=\"https://colab.research.google.com/github/Andrei198203/Data_Science_HW_2/blob/main/HW2.2.ipynb\" target=\"_parent\"><img src=\"https://colab.research.google.com/assets/colab-badge.svg\" alt=\"Open In Colab\"/></a>"
      ]
    },
    {
      "cell_type": "markdown",
      "source": [
        "Task1"
      ],
      "metadata": {
        "id": "ATnb9-7ikXxP"
      }
    },
    {
      "cell_type": "code",
      "execution_count": 2,
      "metadata": {
        "id": "r-2chijrhDZC"
      },
      "outputs": [],
      "source": [
        "import pandas as pd\n",
        "\n",
        "# 1. Read the 2017_jun_final.csv file using the read_csv method\n",
        "url = \"https://docs.google.com/spreadsheets/d/1bclX5PbqE8zR1-wOSM3ZTFa53sIC7RXqwty7Abmw9yQ/export?format=csv&id=1bclX5PbqE8zR1-wOSM3ZTFa53sIC7RXqwty7Abmw9yQ\"\n",
        "df = pd.read_csv(url)"
      ]
    },
    {
      "cell_type": "markdown",
      "source": [
        "Task2"
      ],
      "metadata": {
        "id": "5sJx9Sb2kc39"
      }
    },
    {
      "cell_type": "code",
      "source": [
        "# 2. Read the resulting table using the head method\n",
        "print(\"First rows of the table:\")\n",
        "print(df.head())"
      ],
      "metadata": {
        "colab": {
          "base_uri": "https://localhost:8080/"
        },
        "id": "_5Uv_T9ykeTY",
        "outputId": "b31a9170-66d6-4e15-98dc-1dd3f8fa8d4d"
      },
      "execution_count": 3,
      "outputs": [
        {
          "output_type": "stream",
          "name": "stdout",
          "text": [
            "First rows of the table:\n",
            "   N                    Посада Мова програмування Спеціалізація  \\\n",
            "0  1        Junior QA engineer                NaN     Manual QA   \n",
            "1  2        Junior QA engineer                NaN     Manual QA   \n",
            "2  3         Software Engineer            C#/.NET           NaN   \n",
            "3  4         Software Engineer         JavaScript           NaN   \n",
            "4  5  Senior Software Engineer         JavaScript           NaN   \n",
            "\n",
            "  Загальний досвід роботи Досвід роботи на поточному місці  \\\n",
            "0                     0.5                              0.5   \n",
            "1         менше 3 місяців                  менше 3 місяців   \n",
            "2                       4                                1   \n",
            "3                       5                                4   \n",
            "4       10 і більше років                              0.5   \n",
            "\n",
            "   Зарплата на місяць  Зміна зарплати за 12 місяців   Місто   Розмір компанії  \\\n",
            "0                 400                             0  Харків        до 10 осіб   \n",
            "1                 430                           130  Харків  більше 1000 осіб   \n",
            "2                2500                           800    Київ      до 1000 осіб   \n",
            "3                2000                           400   Одеса       до 200 осіб   \n",
            "4                4500                           500    Інше        до 10 осіб   \n",
            "\n",
            "   ... Ще студент                    Рівень англійської  \\\n",
            "0  ...       True    Pre-intermediate (нище середнього)   \n",
            "1  ...       True  Upper-Intermediate (вище середнього)   \n",
            "2  ...      False               Intermediate (середній)   \n",
            "3  ...      False    Pre-intermediate (нище середнього)   \n",
            "4  ...      False               Intermediate (середній)   \n",
            "\n",
            "                   Предметна область      Дата заповнення  \\\n",
            "0                      iOS,eCommerce  12/06/2017 12:38:08   \n",
            "1                       Веб-розробка  12/06/2017 12:42:51   \n",
            "2  Веб-розробка,Корпоративні системи  12/06/2017 13:02:47   \n",
            "3  Desktop Applications,Веб-розробка  12/06/2017 13:03:01   \n",
            "4  Desktop Applications,Веб-розробка  12/06/2017 13:03:47   \n",
            "\n",
            "                                          User.Agent   exp current_job_exp  \\\n",
            "0  Mozilla/5.0 (Windows NT 10.0; Win64; x64) Appl...   0.5             0.5   \n",
            "1  Mozilla/5.0 (iPad; CPU OS 10_2_1 like Mac OS X...   0.0             0.0   \n",
            "2  Mozilla/5.0 (Windows NT 10.0; Win64; x64) Appl...   4.0             1.0   \n",
            "3  Mozilla/5.0 (Windows NT 6.1; Win64; x64) Apple...   5.0             4.0   \n",
            "4  Mozilla/5.0 (iPhone; CPU iPhone OS 10_3_2 like...  10.0             0.5   \n",
            "\n",
            "  salary Валюта  cls  \n",
            "0    400    NaN   QA  \n",
            "1    430    NaN   QA  \n",
            "2   2500    NaN  DEV  \n",
            "3   2000    NaN  DEV  \n",
            "4   4500    NaN  DEV  \n",
            "\n",
            "[5 rows x 25 columns]\n"
          ]
        }
      ]
    },
    {
      "cell_type": "markdown",
      "source": [
        "Task3"
      ],
      "metadata": {
        "id": "r7iqtIcOlbte"
      }
    },
    {
      "cell_type": "code",
      "source": [
        "# Define the size of a table using the shape method\n",
        "print(\"Table size:\", df.shape)"
      ],
      "metadata": {
        "colab": {
          "base_uri": "https://localhost:8080/"
        },
        "id": "738S5AdEldkd",
        "outputId": "5bb3326c-4547-4aa7-996f-8fa7e9a066e4"
      },
      "execution_count": 4,
      "outputs": [
        {
          "output_type": "stream",
          "name": "stdout",
          "text": [
            "Table size: (8704, 25)\n"
          ]
        }
      ]
    },
    {
      "cell_type": "markdown",
      "source": [
        "Task4"
      ],
      "metadata": {
        "id": "wpX-VGOnl4Wm"
      }
    },
    {
      "cell_type": "code",
      "source": [
        "# Define the types of all columns using dataframe.dtypes\n",
        "print(\"Column data types:\")\n",
        "print(df.dtypes)"
      ],
      "metadata": {
        "colab": {
          "base_uri": "https://localhost:8080/"
        },
        "id": "iY-gkfg4l55v",
        "outputId": "5b19e835-8347-465b-97b3-47df32e2ff62"
      },
      "execution_count": 5,
      "outputs": [
        {
          "output_type": "stream",
          "name": "stdout",
          "text": [
            "Column data types:\n",
            "N                                     int64\n",
            "Посада                               object\n",
            "Мова програмування                   object\n",
            "Спеціалізація                        object\n",
            "Загальний досвід роботи              object\n",
            "Досвід роботи на поточному місці     object\n",
            "Зарплата на місяць                    int64\n",
            "Зміна зарплати за 12 місяців          int64\n",
            "Місто                                object\n",
            "Розмір компанії                      object\n",
            "Тип компанії                         object\n",
            "Стать                                object\n",
            "Вік                                   int64\n",
            "Освіта                               object\n",
            "Університет                          object\n",
            "Ще студент                             bool\n",
            "Рівень англійської                   object\n",
            "Предметна область                    object\n",
            "Дата заповнення                      object\n",
            "User.Agent                           object\n",
            "exp                                 float64\n",
            "current_job_exp                     float64\n",
            "salary                                int64\n",
            "Валюта                               object\n",
            "cls                                  object\n",
            "dtype: object\n"
          ]
        }
      ]
    },
    {
      "cell_type": "markdown",
      "source": [
        "Task5"
      ],
      "metadata": {
        "id": "TS7Rg0HAmOy_"
      }
    },
    {
      "cell_type": "code",
      "source": [
        "# Calculate the proportion of blanks in each column\n",
        "missing_percentage = df.isnull().sum() / len(df) * 100\n",
        "print(\"Proportion of spaces in each column:\")\n",
        "print(missing_percentage)"
      ],
      "metadata": {
        "colab": {
          "base_uri": "https://localhost:8080/"
        },
        "id": "c-l9-ZbFmRLO",
        "outputId": "7abf3783-d667-41e7-c2a7-256fb9c4cdc2"
      },
      "execution_count": 6,
      "outputs": [
        {
          "output_type": "stream",
          "name": "stdout",
          "text": [
            "Proportion of spaces in each column:\n",
            "N                                    0.000000\n",
            "Посада                               0.000000\n",
            "Мова програмування                  44.232537\n",
            "Спеціалізація                       82.938879\n",
            "Загальний досвід роботи              0.000000\n",
            "Досвід роботи на поточному місці     0.000000\n",
            "Зарплата на місяць                   0.000000\n",
            "Зміна зарплати за 12 місяців         0.000000\n",
            "Місто                                0.000000\n",
            "Розмір компанії                      0.000000\n",
            "Тип компанії                         0.000000\n",
            "Стать                                0.000000\n",
            "Вік                                  0.000000\n",
            "Освіта                               0.000000\n",
            "Університет                          4.113051\n",
            "Ще студент                           0.000000\n",
            "Рівень англійської                   0.000000\n",
            "Предметна область                    2.562040\n",
            "Дата заповнення                      0.000000\n",
            "User.Agent                           0.000000\n",
            "exp                                  0.000000\n",
            "current_job_exp                      0.000000\n",
            "salary                               0.000000\n",
            "Валюта                              99.885110\n",
            "cls                                 18.083640\n",
            "dtype: float64\n"
          ]
        }
      ]
    },
    {
      "cell_type": "markdown",
      "source": [
        "Task6"
      ],
      "metadata": {
        "id": "BX9PUCCAnE0s"
      }
    },
    {
      "cell_type": "code",
      "source": [
        "# Delete all columns with spaces, except for the \"Programming language\" column\n",
        "columns_to_drop = df.columns[df.isnull().any() & (df.columns != 'Мова програмування')]\n",
        "df = df.drop(columns_to_drop, axis=1)"
      ],
      "metadata": {
        "id": "1nyjK79VnGJ_"
      },
      "execution_count": 7,
      "outputs": []
    },
    {
      "cell_type": "markdown",
      "source": [
        "Task7"
      ],
      "metadata": {
        "id": "L10_5FeonbGH"
      }
    },
    {
      "cell_type": "code",
      "source": [
        "# Calculate the proportion of spaces in each column again\n",
        "missing_percentage_after_drop = df.isnull().sum() / len(df) * 100\n",
        "print(\"Proportion of spaces in each column after deletion:\")\n",
        "print(missing_percentage_after_drop)"
      ],
      "metadata": {
        "colab": {
          "base_uri": "https://localhost:8080/"
        },
        "id": "04Df9Y7NncbA",
        "outputId": "b646f7c8-90cb-4aa0-f095-9f57f3b7c6d2"
      },
      "execution_count": 8,
      "outputs": [
        {
          "output_type": "stream",
          "name": "stdout",
          "text": [
            "Proportion of spaces in each column after deletion:\n",
            "N                                    0.000000\n",
            "Посада                               0.000000\n",
            "Мова програмування                  44.232537\n",
            "Загальний досвід роботи              0.000000\n",
            "Досвід роботи на поточному місці     0.000000\n",
            "Зарплата на місяць                   0.000000\n",
            "Зміна зарплати за 12 місяців         0.000000\n",
            "Місто                                0.000000\n",
            "Розмір компанії                      0.000000\n",
            "Тип компанії                         0.000000\n",
            "Стать                                0.000000\n",
            "Вік                                  0.000000\n",
            "Освіта                               0.000000\n",
            "Ще студент                           0.000000\n",
            "Рівень англійської                   0.000000\n",
            "Дата заповнення                      0.000000\n",
            "User.Agent                           0.000000\n",
            "exp                                  0.000000\n",
            "current_job_exp                      0.000000\n",
            "salary                               0.000000\n",
            "dtype: float64\n"
          ]
        }
      ]
    },
    {
      "cell_type": "markdown",
      "source": [
        "Task8"
      ],
      "metadata": {
        "id": "SfSSbLLmoJeV"
      }
    },
    {
      "cell_type": "code",
      "source": [
        "# Delete all rows in the source table using the dropna method\n",
        "df.dropna(inplace=True)"
      ],
      "metadata": {
        "id": "00WaFpC3oLXq"
      },
      "execution_count": 9,
      "outputs": []
    },
    {
      "cell_type": "markdown",
      "source": [
        "Task9"
      ],
      "metadata": {
        "id": "_gub9ytboZLf"
      }
    },
    {
      "cell_type": "code",
      "source": [
        "# Define a new table size using the shape method\n",
        "print(\"New table size:\", df.shape)"
      ],
      "metadata": {
        "colab": {
          "base_uri": "https://localhost:8080/"
        },
        "id": "tR4zweowoa2z",
        "outputId": "bcb5035d-7960-431e-f383-50bb96439098"
      },
      "execution_count": 10,
      "outputs": [
        {
          "output_type": "stream",
          "name": "stdout",
          "text": [
            "New table size: (4854, 20)\n"
          ]
        }
      ]
    },
    {
      "cell_type": "markdown",
      "source": [
        "Task10"
      ],
      "metadata": {
        "id": "4B4Px1I9qMet"
      }
    },
    {
      "cell_type": "code",
      "source": [
        "# 10. Створіть нову таблицю python_data, в якій будуть тільки рядки зі спеціалістами, які вказали мову програмування Python.\n",
        "python_data = df[df['Мова програмування'] == 'Python']"
      ],
      "metadata": {
        "id": "6zpSZLe-qOs1"
      },
      "execution_count": 11,
      "outputs": []
    },
    {
      "cell_type": "markdown",
      "source": [
        "Task11"
      ],
      "metadata": {
        "id": "w50u3J274BHK"
      }
    },
    {
      "cell_type": "code",
      "source": [
        "# Determine the size of the python_data table using the shape method.\n",
        "print(\"The size of the python_data table:\", python_data.shape)"
      ],
      "metadata": {
        "colab": {
          "base_uri": "https://localhost:8080/"
        },
        "id": "LxY2BXQV4D7Q",
        "outputId": "4c68301a-b255-4d02-e736-66032433b8dc"
      },
      "execution_count": 12,
      "outputs": [
        {
          "output_type": "stream",
          "name": "stdout",
          "text": [
            "The size of the python_data table: (207, 20)\n"
          ]
        }
      ]
    },
    {
      "cell_type": "markdown",
      "source": [
        "Task12"
      ],
      "metadata": {
        "id": "AQWEMWWx4q0J"
      }
    },
    {
      "cell_type": "code",
      "source": [
        "# Using the groupby method, group by the \"Position\" column.\n",
        "grouped_data = python_data.groupby('Посада')"
      ],
      "metadata": {
        "id": "rP4vx5uw4tgR"
      },
      "execution_count": 13,
      "outputs": []
    },
    {
      "cell_type": "markdown",
      "source": [
        "Task13"
      ],
      "metadata": {
        "id": "R_Nc7LsLE6ep"
      }
    },
    {
      "cell_type": "code",
      "source": [
        "# 13. Create a new DataFrame where, for the grouped data by the \"Position\" column, perform data aggregation using the agg method and find the minimum and maximum values in the \"Salary.per.month\" column.\n",
        "agg_data = grouped_data.agg({'Зарплата на місяць': ['min', 'max']})\n",
        "print(\"Aggregated data by position:\")\n",
        "print(agg_data)"
      ],
      "metadata": {
        "colab": {
          "base_uri": "https://localhost:8080/"
        },
        "id": "-S0_y6jVE84o",
        "outputId": "b944b199-7ed8-4395-eb15-8eee958ea926"
      },
      "execution_count": 14,
      "outputs": [
        {
          "output_type": "stream",
          "name": "stdout",
          "text": [
            "Aggregated data by position:\n",
            "                         Зарплата на місяць      \n",
            "                                        min   max\n",
            "Посада                                           \n",
            "Junior Software Engineer                100  1250\n",
            "Senior Software Engineer               1300  9200\n",
            "Software Engineer                       500  5400\n",
            "System Architect                       3000  5000\n",
            "Technical Lead                         1425  6200\n"
          ]
        }
      ]
    },
    {
      "cell_type": "markdown",
      "source": [
        "Task14"
      ],
      "metadata": {
        "id": "e5WJHVwWGLfs"
      }
    },
    {
      "cell_type": "code",
      "source": [
        "# Create a fill_avg_salary function that returns the average salary per month.\n",
        "# Use it for the apply method and create a new column \"avg\"\n",
        "def fill_avg_salary(group):\n",
        "    return group.mean()\n",
        "\n",
        "python_data_copy = python_data.copy()  # Creating a copy of a DataFrame\n",
        "python_data_copy['avg'] = python_data_copy.groupby('Посада')['Зарплата на місяць'].apply(fill_avg_salary)\n",
        "print(\"Average salary per month:\", python_data_copy['avg'])"
      ],
      "metadata": {
        "id": "h28cvB6UGON-",
        "colab": {
          "base_uri": "https://localhost:8080/"
        },
        "outputId": "2711e6ab-897b-4f11-ad71-e5a319209c78"
      },
      "execution_count": 19,
      "outputs": [
        {
          "output_type": "stream",
          "name": "stdout",
          "text": [
            "Average salary per month: 12     NaN\n",
            "68     NaN\n",
            "87     NaN\n",
            "114    NaN\n",
            "143    NaN\n",
            "        ..\n",
            "8546   NaN\n",
            "8625   NaN\n",
            "8635   NaN\n",
            "8673   NaN\n",
            "8695   NaN\n",
            "Name: avg, Length: 207, dtype: float64\n"
          ]
        }
      ]
    },
    {
      "cell_type": "markdown",
      "source": [
        "Task15"
      ],
      "metadata": {
        "id": "rze01DmVJGc4"
      }
    },
    {
      "cell_type": "code",
      "source": [
        "# Create descriptive statistics using the describe method for a new column.\n",
        "python_data['avg'] = python_data.mean(axis=1)\n",
        "print(\"Descriptive statistics for the new column:\")\n",
        "print(python_data['avg'].describe())"
      ],
      "metadata": {
        "colab": {
          "base_uri": "https://localhost:8080/"
        },
        "id": "K0ZrZEoeJIBm",
        "outputId": "2121eda6-2ffb-4e05-d792-2184575503b9"
      },
      "execution_count": 20,
      "outputs": [
        {
          "output_type": "stream",
          "name": "stdout",
          "text": [
            "Descriptive statistics for the new column:\n",
            "count     207.000000\n",
            "mean      979.912289\n",
            "std       505.442267\n",
            "min        96.375000\n",
            "25%       614.000000\n",
            "50%       928.062500\n",
            "75%      1274.703125\n",
            "max      3190.500000\n",
            "Name: avg, dtype: float64\n"
          ]
        },
        {
          "output_type": "stream",
          "name": "stderr",
          "text": [
            "<ipython-input-20-3722b43cf244>:2: FutureWarning: Dropping of nuisance columns in DataFrame reductions (with 'numeric_only=None') is deprecated; in a future version this will raise TypeError.  Select only valid columns before calling the reduction.\n",
            "  python_data['avg'] = python_data.mean(axis=1)\n",
            "<ipython-input-20-3722b43cf244>:2: SettingWithCopyWarning: \n",
            "A value is trying to be set on a copy of a slice from a DataFrame.\n",
            "Try using .loc[row_indexer,col_indexer] = value instead\n",
            "\n",
            "See the caveats in the documentation: https://pandas.pydata.org/pandas-docs/stable/user_guide/indexing.html#returning-a-view-versus-a-copy\n",
            "  python_data['avg'] = python_data.mean(axis=1)\n"
          ]
        }
      ]
    },
    {
      "cell_type": "markdown",
      "source": [
        "Task16"
      ],
      "metadata": {
        "id": "kZQqxAMiKL7u"
      }
    },
    {
      "cell_type": "code",
      "source": [
        "# Save the resulting table to a CSV file\n",
        "python_data.to_csv('python_data.csv', index=False)"
      ],
      "metadata": {
        "id": "MLdkc-HLKOCN"
      },
      "execution_count": null,
      "outputs": []
    },
    {
      "cell_type": "markdown",
      "source": [
        "Task17(Visualisation)"
      ],
      "metadata": {
        "id": "JefN56qHw7ms"
      }
    },
    {
      "cell_type": "code",
      "source": [
        "import matplotlib.pyplot as plt\n",
        "import seaborn as sns\n",
        "\n",
        "# Set the styling for the graphic\n",
        "sns.set_style('darkgrid')\n",
        "\n",
        "# Create the shape and axes of the graph\n",
        "fig, ax = plt.subplots(figsize=(10, 6))\n",
        "\n",
        "# Set the data for the graph\n",
        "positions = agg_data.index\n",
        "min_salary = agg_data[('Зарплата на місяць', 'min')]\n",
        "max_salary = agg_data[('Зарплата на місяць', 'max')]\n",
        "\n",
        "# Build a graph with minimum and maximum salaries\n",
        "ax.barh(positions, min_salary, color='skyblue', label='Min Salary')\n",
        "ax.barh(positions, max_salary - min_salary, left=min_salary, color='lightgreen', label='Max Salary')\n",
        "\n",
        "# Add the name and labels of the axes\n",
        "ax.set_xlabel('Salary per Month')\n",
        "ax.set_ylabel('Position')\n",
        "ax.set_title('Min and Max Salary by Position')\n",
        "\n",
        "# Add a legend\n",
        "ax.legend()\n",
        "\n",
        "# Display the graph\n",
        "plt.tight_layout()\n",
        "plt.show()"
      ],
      "metadata": {
        "colab": {
          "base_uri": "https://localhost:8080/",
          "height": 607
        },
        "id": "7HrDQG2OxAw3",
        "outputId": "fd60ae85-1c6d-4b2e-a39c-981c62275db4"
      },
      "execution_count": 23,
      "outputs": [
        {
          "output_type": "display_data",
          "data": {
            "text/plain": [
              "<Figure size 1000x600 with 1 Axes>"
            ],
            "image/png": "[encoded data removed]"
          },
          "metadata": {}
        }
      ]
    },
    {
      "cell_type": "code",
      "source": [
        "import seaborn as sns\n",
        "import matplotlib.pyplot as plt\n",
        "\n",
        "# Set a theme and style for your graphics\n",
        "sns.set_theme(style=\"whitegrid\")\n",
        "\n",
        "# Columns for building a distribution chart\n",
        "columns = [\"Посада\", \"Мова програмування\", \"Загальний досвід роботи\",\n",
        "           \"Зарплата на місяць\", \"Розмір компанії\", \"Рівень англійської\"]\n",
        "\n",
        "# Create a distribution schedule\n",
        "plt.figure(figsize=(12, 8))\n",
        "for column in columns:\n",
        "    if df[column].dtype == 'object':\n",
        "        sns.histplot(data=df, x=column, label=column, discrete=True, alpha=0.5)\n",
        "    else:\n",
        "        sns.kdeplot(data=df, x=column, fill=True, label=column)\n",
        "plt.title('Distribution Plot')\n",
        "plt.xlabel('Values')\n",
        "plt.ylabel('Density')\n",
        "plt.legend()\n",
        "plt.show()"
      ],
      "metadata": {
        "id": "2UeesE220zn-"
      },
      "execution_count": null,
      "outputs": []
    },
    {
      "cell_type": "code",
      "source": [
        "import pandas as pd\n",
        "import matplotlib.pyplot as plt\n",
        "import seaborn as sns\n",
        "\n",
        "# Read the data from the provided URL\n",
        "url = \"https://docs.google.com/spreadsheets/d/1bclX5PbqE8zR1-wOSM3ZTFa53sIC7RXqwty7Abmw9yQ/export?format=csv&id=1bclX5PbqE8zR1-wOSM3ZTFa53sIC7RXqwty7Abmw9yQ\"\n",
        "df = pd.read_csv(url)\n",
        "\n",
        "# Check the first few rows of the dataframe\n",
        "print(\"First few rows of the dataframe:\")\n",
        "print(df.head())\n",
        "\n",
        "# Plot the relationship between Salary per month and English level using seaborn\n",
        "plt.figure(figsize=(10, 6))\n",
        "sns.scatterplot(data=df, x='Рівень англійської', y='Зарплата на місяць')\n",
        "plt.title('Заробітна плата в залежності від рівня англійської')\n",
        "plt.xlabel('Рівень англійської')\n",
        "plt.ylabel('Зарплата на місяць')\n",
        "plt.grid(True)\n",
        "plt.show()"
      ],
      "metadata": {
        "id": "j9qoUvsA28tb"
      },
      "execution_count": null,
      "outputs": []
    },
    {
      "cell_type": "code",
      "source": [
        "import pandas as pd\n",
        "import matplotlib.pyplot as plt\n",
        "import seaborn as sns\n",
        "\n",
        "# Зчитуємо дані з вказаного URL\n",
        "url = \"https://docs.google.com/spreadsheets/d/1bclX5PbqE8zR1-wOSM3ZTFa53sIC7RXqwty7Abmw9yQ/export?format=csv&id=1bclX5PbqE8zR1-wOSM3ZTFa53sIC7RXqwty7Abmw9yQ\"\n",
        "df = pd.read_csv(url)\n",
        "\n",
        "# Перевірка перших кількох рядків таблиці\n",
        "print(\"Перші кілька рядків таблиці:\")\n",
        "print(df.head())\n",
        "\n",
        "# Побудова графіку залежності зарплати від мови програмування за допомогою seaborn\n",
        "plt.figure(figsize=(12, 6))\n",
        "sns.boxplot(data=df, x='Мова програмування', y='Зарплата на місяць', hue='Мова програмування', dodge=False)\n",
        "plt.title('Заробітна плата в залежності від мови програмування')\n",
        "plt.xlabel('Мова програмування')\n",
        "plt.ylabel('Зарплата на місяць')\n",
        "plt.xticks(rotation=45, ha='right')\n",
        "plt.grid(True)\n",
        "plt.tight_layout()\n",
        "plt.show()"
      ],
      "metadata": {
        "id": "hrmOvBDk3-Q-"
      },
      "execution_count": null,
      "outputs": []
    }
  ]
}
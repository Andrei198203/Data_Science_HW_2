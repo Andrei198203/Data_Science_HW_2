{
  "nbformat": 4,
  "nbformat_minor": 0,
  "metadata": {
    "colab": {
      "provenance": [],
      "authorship_tag": "ABX9TyMOJdQwBsBZe68C6l4GWWXU",
      "include_colab_link": true
    },
    "kernelspec": {
      "name": "python3",
      "display_name": "Python 3"
    },
    "language_info": {
      "name": "python"
    }
  },
  "cells": [
    {
      "cell_type": "markdown",
      "metadata": {
        "id": "view-in-github",
        "colab_type": "text"
      },
      "source": [
        "<a href=\"https://colab.research.google.com/github/Andrei198203/Data_Science_HW_2/blob/main/Hw2.3.ipynb\" target=\"_parent\"><img src=\"https://colab.research.google.com/assets/colab-badge.svg\" alt=\"Open In Colab\"/></a>"
      ]
    },
    {
      "cell_type": "markdown",
      "source": [],
      "metadata": {
        "id": "BSypxIyp7bUv"
      }
    },
    {
      "cell_type": "markdown",
      "source": [],
      "metadata": {
        "id": "iFzpaEb3eVp-"
      }
    },
    {
      "cell_type": "markdown",
      "source": [
        "1. Dataset analysis with Kaggle.com"
      ],
      "metadata": {
        "id": "Bjt-nb8NeW2y"
      }
    },
    {
      "cell_type": "markdown",
      "source": [
        "Task1"
      ],
      "metadata": {
        "id": "A9AMvJD6APqs"
      }
    },
    {
      "cell_type": "code",
      "source": [
        "import pandas as pd\n",
        "import matplotlib.pyplot as plt\n",
        "\n",
        "# Downloading data from a CSV file\n",
        "url = \"https://docs.google.com/spreadsheets/d/1LP8ArP3owaGl3bm5Uevr2wHNpRQQHDQRSksIAiED4Lw/export?format=csv\"\n",
        "df = pd.read_csv(url)"
      ],
      "metadata": {
        "id": "z0XHECaaeYDj"
      },
      "execution_count": 2,
      "outputs": []
    },
    {
      "cell_type": "markdown",
      "source": [
        "Task2"
      ],
      "metadata": {
        "id": "wh3K4PsiemI8"
      }
    },
    {
      "cell_type": "code",
      "source": [
        "print(df.head())"
      ],
      "metadata": {
        "colab": {
          "base_uri": "https://localhost:8080/"
        },
        "id": "-9qA_PoqeoI1",
        "outputId": "efdd4d93-4f0c-4fb0-9959-953d769181f1"
      },
      "execution_count": 4,
      "outputs": [
        {
          "output_type": "stream",
          "name": "stdout",
          "text": [
            "                                                name  \\\n",
            "0                      10-Day Green Smoothie Cleanse   \n",
            "1                                  11/22/63: A Novel   \n",
            "2            12 Rules for Life: An Antidote to Chaos   \n",
            "3                             1984 (Signet Classics)   \n",
            "4  5,000 Awesome Facts (About Everything!) (Natio...   \n",
            "\n",
            "                     author  user_rating  reviews  price  year        genre  \n",
            "0                  JJ Smith          4.7    17350      8  2016  Non Fiction  \n",
            "1              Stephen King          4.6     2052     22  2011      Fiction  \n",
            "2        Jordan B. Peterson          4.7    18979     15  2018  Non Fiction  \n",
            "3             George Orwell          4.7    21424      6  2017      Fiction  \n",
            "4  National Geographic Kids          4.8     7665     12  2019  Non Fiction  \n"
          ]
        }
      ]
    },
    {
      "cell_type": "markdown",
      "source": [
        "Task3"
      ],
      "metadata": {
        "id": "HWM-lRWXeyOl"
      }
    },
    {
      "cell_type": "code",
      "source": [
        "# Displaying the size of the dataset\n",
        "print(\"Dataset size:\", df.shape)"
      ],
      "metadata": {
        "colab": {
          "base_uri": "https://localhost:8080/"
        },
        "id": "c5vQiP8le0G6",
        "outputId": "a17af28b-2081-4fbd-8ae7-2f83b5f0b9ba"
      },
      "execution_count": 5,
      "outputs": [
        {
          "output_type": "stream",
          "name": "stdout",
          "text": [
            "Dataset size: (550, 7)\n"
          ]
        }
      ]
    },
    {
      "cell_type": "markdown",
      "source": [
        "Task4"
      ],
      "metadata": {
        "id": "0Unp8eIWgTlt"
      }
    },
    {
      "cell_type": "code",
      "source": [
        "# Print the number of books in the dataset\n",
        "print(\"Number of books in the dataset:\", df.shape[0])"
      ],
      "metadata": {
        "id": "-wGfjrE2gVO6",
        "outputId": "c2047d5b-3fa5-4c0d-c6e4-324ba64a658b",
        "colab": {
          "base_uri": "https://localhost:8080/"
        }
      },
      "execution_count": 22,
      "outputs": [
        {
          "output_type": "stream",
          "name": "stdout",
          "text": [
            "Number of books in the dataset: 550\n"
          ]
        }
      ]
    },
    {
      "cell_type": "markdown",
      "source": [
        "Task5"
      ],
      "metadata": {
        "id": "y0yZ0rgU5CaV"
      }
    },
    {
      "cell_type": "code",
      "source": [
        "df.columns = ['name', 'author', 'user_rating', 'reviews', 'price', 'year', 'genre']"
      ],
      "metadata": {
        "id": "JwAeWZnT5EjF"
      },
      "execution_count": 7,
      "outputs": []
    },
    {
      "cell_type": "markdown",
      "source": [
        "2. Primary data research"
      ],
      "metadata": {
        "id": "-X4pOZWC7JUC"
      }
    },
    {
      "cell_type": "markdown",
      "source": [
        "Task6"
      ],
      "metadata": {
        "id": "0DFDvDWpAD__"
      }
    },
    {
      "cell_type": "code",
      "source": [
        "# Counting the spaces in each column\n",
        "missing_values = df.isna().sum()\n",
        "print(\"Spaces in each column:\")\n",
        "print(missing_values)\n",
        "\n",
        "# Checking for gaps\n",
        "if missing_values.sum() > 0:\n",
        "    print(\"Do any variables have gaps? Yes\")\n",
        "else:\n",
        "    print(\"Do any variables have gaps? No\")"
      ],
      "metadata": {
        "colab": {
          "base_uri": "https://localhost:8080/"
        },
        "id": "ekUVtpAv71eV",
        "outputId": "cd1c7f1c-1d46-4444-f79f-95d054c58500"
      },
      "execution_count": 9,
      "outputs": [
        {
          "output_type": "stream",
          "name": "stdout",
          "text": [
            "Spaces in each column:\n",
            "name           0\n",
            "author         0\n",
            "user_rating    0\n",
            "reviews        0\n",
            "price          0\n",
            "year           0\n",
            "genre          0\n",
            "dtype: int64\n",
            "Do any variables have gaps? No\n"
          ]
        }
      ]
    },
    {
      "cell_type": "markdown",
      "source": [
        "Task7"
      ],
      "metadata": {
        "id": "wbx09jUh8tOP"
      }
    },
    {
      "cell_type": "code",
      "source": [
        "# Unique values in the genre column\n",
        "unique_genres = df['genre'].unique()\n",
        "print(\"Unique genres:\")\n",
        "print(unique_genres)"
      ],
      "metadata": {
        "colab": {
          "base_uri": "https://localhost:8080/"
        },
        "id": "UGr4OSg88vMj",
        "outputId": "ab02b397-1902-45f1-b12b-e3921965eb35"
      },
      "execution_count": 11,
      "outputs": [
        {
          "output_type": "stream",
          "name": "stdout",
          "text": [
            "Unique genres:\n",
            "['Non Fiction' 'Fiction']\n"
          ]
        }
      ]
    },
    {
      "cell_type": "markdown",
      "source": [
        "Task8"
      ],
      "metadata": {
        "id": "j2VCMw1N9SVw"
      }
    },
    {
      "cell_type": "code",
      "source": [
        "# Building a histogram of price distribution\n",
        "\n",
        "df['price'].plot(kind='hist', bins=20, edgecolor='black')\n",
        "plt.title('Price distribution')\n",
        "plt.xlabel('Price')\n",
        "plt.ylabel('Frequency')\n",
        "plt.show()"
      ],
      "metadata": {
        "colab": {
          "base_uri": "https://localhost:8080/",
          "height": 472
        },
        "id": "4qH311AD9UNk",
        "outputId": "24bf835d-33d6-4653-92ab-5c95ea355494"
      },
      "execution_count": 23,
      "outputs": [
        {
          "output_type": "display_data",
          "data": {
            "text/plain": [
              "<Figure size 640x480 with 1 Axes>"
            ],
            "image/png": "[encoded data removed]"
          },
          "metadata": {}
        }
      ]
    },
    {
      "cell_type": "markdown",
      "source": [
        "Task9"
      ],
      "metadata": {
        "id": "r1h1Ca8M-Lqz"
      }
    },
    {
      "cell_type": "code",
      "source": [
        "# Maximum price\n",
        "max_price = df['price'].max()\n",
        "print(\"Maximum price:\", max_price)\n",
        "\n",
        "# Minimum price\n",
        "min_price = df['price'].min()\n",
        "print(\"Minimum price:\", min_price)\n",
        "\n",
        "# Average price\n",
        "mean_price = df['price'].mean()\n",
        "print(\"Average price:\", mean_price)\n",
        "\n",
        "# Median price\n",
        "median_price = df['price'].median()\n",
        "print(\"Median price:\", median_price)"
      ],
      "metadata": {
        "colab": {
          "base_uri": "https://localhost:8080/"
        },
        "id": "P80_MTrK-Njw",
        "outputId": "d70a7d24-a74d-4482-b60e-a0fa78744891"
      },
      "execution_count": 16,
      "outputs": [
        {
          "output_type": "stream",
          "name": "stdout",
          "text": [
            "Maximum price: 105\n",
            "Minimum price: 0\n",
            "Average price: 13.1\n",
            "Median price: 11.0\n"
          ]
        }
      ]
    },
    {
      "cell_type": "markdown",
      "source": [
        "3. Search and sort data"
      ],
      "metadata": {
        "id": "YfL3qwkHAvV4"
      }
    },
    {
      "cell_type": "markdown",
      "source": [
        "Task10"
      ],
      "metadata": {
        "id": "OTe9tviJAyT_"
      }
    },
    {
      "cell_type": "code",
      "source": [
        "# Finding the highest rating\n",
        "max_rating = df['user_rating'].max()\n",
        "print(\"Highest rating in the dataset:\", max_rating)"
      ],
      "metadata": {
        "colab": {
          "base_uri": "https://localhost:8080/"
        },
        "id": "tMvgDbp1A0wc",
        "outputId": "c0f9fb8e-37c6-4dd0-8ad5-78fd0cab2db6"
      },
      "execution_count": 18,
      "outputs": [
        {
          "output_type": "stream",
          "name": "stdout",
          "text": [
            "Highest rating in the dataset: 4.9\n"
          ]
        }
      ]
    },
    {
      "cell_type": "markdown",
      "source": [
        "Task11"
      ],
      "metadata": {
        "id": "FPtZcj8lBYL9"
      }
    },
    {
      "cell_type": "code",
      "source": [
        "# Number of books with the highest rating\n",
        "num_books_with_max_rating = df[df['user_rating'] == max_rating].shape[0]\n",
        "print(\"Number of books with the highest rating:\", num_books_with_max_rating)"
      ],
      "metadata": {
        "colab": {
          "base_uri": "https://localhost:8080/"
        },
        "id": "pyf0lOzlBa9-",
        "outputId": "aef49113-0810-4c5e-b87b-8b93b39ff9dd"
      },
      "execution_count": 20,
      "outputs": [
        {
          "output_type": "stream",
          "name": "stdout",
          "text": [
            "Number of books with the highest rating: 52\n"
          ]
        }
      ]
    },
    {
      "cell_type": "markdown",
      "source": [
        "Task12"
      ],
      "metadata": {
        "id": "XxGVewToDWgG"
      }
    },
    {
      "cell_type": "code",
      "source": [
        "# Find the book with the largest number of reviews\n",
        "max_reviews_book = df[df['reviews'] == df['reviews'].max()]['name'].values[0]\n",
        "print(\"The book with the most reviews:\", max_reviews_book)"
      ],
      "metadata": {
        "colab": {
          "base_uri": "https://localhost:8080/"
        },
        "id": "1DONJZNsDYEs",
        "outputId": "619c61a5-22f5-4621-9402-cf3186c33582"
      },
      "execution_count": 25,
      "outputs": [
        {
          "output_type": "stream",
          "name": "stdout",
          "text": [
            "The book with the most reviews: Where the Crawdads Sing\n"
          ]
        }
      ]
    },
    {
      "cell_type": "markdown",
      "source": [
        "Task13"
      ],
      "metadata": {
        "id": "IdP52bTNEJlP"
      }
    },
    {
      "cell_type": "code",
      "source": [
        "# Creating an interim dataframe for 2015 books\n",
        "top_2015_books = df[df['year'] == 2015]\n",
        "\n",
        "# Finding the most expensive book of 2015\n",
        "max_price_2015 = top_2015_books['price'].max()\n",
        "max_price_book_2015 = top_2015_books[top_2015_books['price'] == max_price_2015]['name'].values[0]\n",
        "print(\"The most expensive book in the Top 50 in 2015:\", max_price_book_2015)"
      ],
      "metadata": {
        "colab": {
          "base_uri": "https://localhost:8080/"
        },
        "id": "fsEHOIrcELV6",
        "outputId": "58aaf43a-ef06-45ca-f4e4-f14b29b32824"
      },
      "execution_count": 27,
      "outputs": [
        {
          "output_type": "stream",
          "name": "stdout",
          "text": [
            "The most expensive book in the Top 50 in 2015: Publication Manual of the American Psychological Association, 6th Edition\n"
          ]
        }
      ]
    },
    {
      "cell_type": "markdown",
      "source": [
        "Task14"
      ],
      "metadata": {
        "id": "qtjhc0dFFFN3"
      }
    },
    {
      "cell_type": "code",
      "source": [
        "# Number of Fiction books in the Top 50 in 2010\n",
        "num_fiction_2010 = df[(df['genre'] == 'Fiction') & (df['year'] == 2010)].shape[0]\n",
        "print(\"Number of Fiction books in the Top 50 in 2010:\", num_fiction_2010)"
      ],
      "metadata": {
        "colab": {
          "base_uri": "https://localhost:8080/"
        },
        "id": "IN3erkR5FG3p",
        "outputId": "821eafcf-1284-4d3f-a81f-8928cc033a8f"
      },
      "execution_count": 28,
      "outputs": [
        {
          "output_type": "stream",
          "name": "stdout",
          "text": [
            "Number of Fiction books in the Top 50 in 2010: 20\n"
          ]
        }
      ]
    },
    {
      "cell_type": "markdown",
      "source": [
        "Task15"
      ],
      "metadata": {
        "id": "-6KutJ_VFkjd"
      }
    },
    {
      "cell_type": "code",
      "source": [
        "# Number of books with a 4.9 rating in 2010 and 2011\n",
        "num_books_49_rating = df[(df['user_rating'] == 4.9) & ((df['year'] == 2010) | (df['year'] == 2011))].shape[0]\n",
        "print(\"Number of books with a 4.9 rating in 2010 and 2011:\", num_books_49_rating)"
      ],
      "metadata": {
        "colab": {
          "base_uri": "https://localhost:8080/"
        },
        "id": "9bChVLcgFmAg",
        "outputId": "8a711d72-6fce-4687-82f5-0591a85209da"
      },
      "execution_count": 31,
      "outputs": [
        {
          "output_type": "stream",
          "name": "stdout",
          "text": [
            "Number of books with a 4.9 rating in 2010 and 2011: 1\n"
          ]
        }
      ]
    },
    {
      "cell_type": "markdown",
      "source": [
        "Task16"
      ],
      "metadata": {
        "id": "lpB0roOXGxeP"
      }
    },
    {
      "cell_type": "code",
      "source": [
        "# Filter out books from 2015 with a price of less than 8\n",
        "filtered_books = df[(df['year'] == 2015) & (df['price'] < 8)]\n",
        "\n",
        "# Sort books by ascending price\n",
        "sorted_books = filtered_books.sort_values(by='price')\n",
        "\n",
        "# Last book in the sorted list\n",
        "last_book = sorted_books['name'].iloc[-1]\n",
        "print(\"Last book in the sorted list:\", last_book)"
      ],
      "metadata": {
        "colab": {
          "base_uri": "https://localhost:8080/"
        },
        "id": "wDWcZ0zjGzdc",
        "outputId": "3fcd575d-ba84-46ad-84eb-3d0ecb926f1e"
      },
      "execution_count": 33,
      "outputs": [
        {
          "output_type": "stream",
          "name": "stdout",
          "text": [
            "Last book in the sorted list: Old School (Diary of a Wimpy Kid #10)\n"
          ]
        }
      ]
    },
    {
      "cell_type": "markdown",
      "source": [
        "3. Data aggregation and table joins"
      ],
      "metadata": {
        "id": "OV_hxTlRJ7wv"
      }
    },
    {
      "cell_type": "markdown",
      "source": [],
      "metadata": {
        "id": "MJs0W_DFKG0B"
      }
    },
    {
      "cell_type": "markdown",
      "source": [
        "Task17"
      ],
      "metadata": {
        "id": "C6xnfU7YKIXB"
      }
    },
    {
      "cell_type": "code",
      "source": [
        "# Group by genre and calculate maximum and minimum prices\n",
        "genre_prices = df.groupby('genre')['price'].agg(['max', 'min'])\n",
        "\n",
        "# Displaying the result\n",
        "print(\"Maximum and minimum prices for each genre:\")\n",
        "print(genre_prices)"
      ],
      "metadata": {
        "colab": {
          "base_uri": "https://localhost:8080/"
        },
        "id": "hNYuArtpKLpM",
        "outputId": "0811c772-497a-49a3-9aec-840b58e67b6a"
      },
      "execution_count": 36,
      "outputs": [
        {
          "output_type": "stream",
          "name": "stdout",
          "text": [
            "Maximum and minimum prices for each genre:\n",
            "             max  min\n",
            "genre                \n",
            "Fiction       82    0\n",
            "Non Fiction  105    0\n"
          ]
        }
      ]
    },
    {
      "cell_type": "markdown",
      "source": [
        "Task18"
      ],
      "metadata": {
        "id": "l-5l9XW1LEC-"
      }
    },
    {
      "cell_type": "code",
      "source": [
        "# Group by author and calculate the number of books\n",
        "author_books_count = df.groupby('author').size().reset_index(name='book_count')\n",
        "\n",
        "# Table dimensionality\n",
        "print(\"Table dimensionality:\", author_books_count.shape)\n",
        "\n",
        "# Author with the largest number of books\n",
        "author_most_books = author_books_count[author_books_count['book_count'] == author_books_count['book_count'].max()]\n",
        "print(\"Author with the largest number of books:\", author_most_books['author'].values[0])\n",
        "print(\"Number of books by this author:\", author_most_books['book_count'].values[0])"
      ],
      "metadata": {
        "colab": {
          "base_uri": "https://localhost:8080/"
        },
        "id": "55gzfHh3LFl8",
        "outputId": "b61ba528-08a1-4e7c-aebe-3f0e69dd9f7c"
      },
      "execution_count": 38,
      "outputs": [
        {
          "output_type": "stream",
          "name": "stdout",
          "text": [
            "Table dimensionality: (248, 2)\n",
            "Author with the largest number of books: Jeff Kinney\n",
            "Number of books by this author: 12\n"
          ]
        }
      ]
    },
    {
      "cell_type": "markdown",
      "source": [
        "Task19"
      ],
      "metadata": {
        "id": "Jq9ryAwHMpwu"
      }
    },
    {
      "cell_type": "code",
      "source": [
        "# Group by author and calculate the average rating\n",
        "author_avg_rating = df.groupby('author')['user_rating'].mean().reset_index(name='avg_rating')\n",
        "\n",
        "# Author with the lowest average rating\n",
        "min_avg_rating_author = author_avg_rating[author_avg_rating['avg_rating'] == author_avg_rating['avg_rating'].min()]\n",
        "print(\"Author with the lowest average rating:\", min_avg_rating_author['author'].values[0])\n",
        "print(\"The average rating for this author:\", min_avg_rating_author['avg_rating'].values[0])"
      ],
      "metadata": {
        "colab": {
          "base_uri": "https://localhost:8080/"
        },
        "id": "Pkw7-yoKMsc3",
        "outputId": "dbe6fe45-9e0d-4f87-be0b-f8a313927de7"
      },
      "execution_count": 40,
      "outputs": [
        {
          "output_type": "stream",
          "name": "stdout",
          "text": [
            "Author with the lowest average rating: Donna Tartt\n",
            "The average rating for this author: 3.9\n"
          ]
        }
      ]
    },
    {
      "cell_type": "markdown",
      "source": [
        "Task20"
      ],
      "metadata": {
        "id": "7Zu_Wt7RNynx"
      }
    },
    {
      "cell_type": "code",
      "source": [
        "# Join two dataframes\n",
        "merged_df = pd.concat([author_books_count.set_index('author'), author_avg_rating.set_index('author')], axis=1)\n",
        "\n",
        "# Sort by increasing number of books and rating\n",
        "sorted_merged_df = merged_df.sort_values(by=['book_count', 'avg_rating'])\n",
        "\n",
        "# First author in the list\n",
        "first_author = sorted_merged_df.index[0]\n",
        "print(\"The first author in the list:\", first_author)"
      ],
      "metadata": {
        "colab": {
          "base_uri": "https://localhost:8080/"
        },
        "id": "VBNuaGOBN0M4",
        "outputId": "b7ef362b-c3ea-4715-f987-6e51edb95d34"
      },
      "execution_count": 43,
      "outputs": [
        {
          "output_type": "stream",
          "name": "stdout",
          "text": [
            "The first author in the list: Muriel Barbery\n"
          ]
        }
      ]
    }
  ]
}
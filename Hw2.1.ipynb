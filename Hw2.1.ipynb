{
  "nbformat": 4,
  "nbformat_minor": 0,
  "metadata": {
    "colab": {
      "provenance": [],
      "authorship_tag": "ABX9TyP25Kn3mhqauQbqbPMSj7h2",
      "include_colab_link": true
    },
    "kernelspec": {
      "name": "python3",
      "display_name": "Python 3"
    },
    "language_info": {
      "name": "python"
    }
  },
  "cells": [
    {
      "cell_type": "markdown",
      "metadata": {
        "id": "view-in-github",
        "colab_type": "text"
      },
      "source": [
        "<a href=\"https://colab.research.google.com/github/Andrei198203/Data_Science_HW_2/blob/main/Hw2.1.ipynb\" target=\"_parent\"><img src=\"https://colab.research.google.com/assets/colab-badge.svg\" alt=\"Open In Colab\"/></a>"
      ]
    },
    {
      "cell_type": "code",
      "execution_count": 47,
      "metadata": {
        "id": "DT5PQ6Rm9eft"
      },
      "outputs": [],
      "source": [
        "import pandas as pd\n",
        "import numpy as np\n",
        "import matplotlib.pyplot as plt\n",
        "\n",
        "# Зчитуємо таблицю\n",
        "source = 'https://uk.wikipedia.org/wiki/%D0%9D%D0%B0%D1%81%D0%B5%D0%BB%D0%B5%D0%BD%D0%BD%D1%8F_%D0%A3%D0%BA%D1%80%D0%B0%D1%97%D0%BD%D0%B8#%D0%9D%D0%B0%D1%80%D0%BE%D0%B4%D0%B6%D1%83%D0%B2%D0%B0%D0%BD%D1%96%D1%81%D1%82%D1%8C'\n",
        "tables = pd.read_html(source, match='Коефіцієнт народжуваності в регіонах України', thousands=\".\", decimal=\",\")\n",
        "df = tables[0]\n"
      ]
    },
    {
      "cell_type": "markdown",
      "source": [
        "Task1"
      ],
      "metadata": {
        "id": "gFdq7cS9Ky17"
      }
    },
    {
      "cell_type": "code",
      "source": [
        "# Print the first lines of the table\n",
        "df = tables[0]  # select the desired table (index 1)\n",
        "print(\"The first rows of the table:\")\n",
        "print(df.head())"
      ],
      "metadata": {
        "colab": {
          "base_uri": "https://localhost:8080/"
        },
        "id": "4hLfMC72HE9l",
        "outputId": "b84d72e2-bb6e-4a93-d24c-f624e2a4494e"
      },
      "execution_count": 25,
      "outputs": [
        {
          "output_type": "stream",
          "name": "stdout",
          "text": [
            "The first rows of the table:\n",
            "             Регіон  1950  1960  1970  1990  2000  2012  2014  2019\n",
            "0              Крим  23.0  20.6  16.0  13.0   7.3  12.6     —     —\n",
            "1         Вінницька  22.4  19.2  14.2  12.4   8.4  11.2  10.9   7.6\n",
            "2         Волинська  24.7  25.0  17.9  15.3  11.2  14.8  14.1  10.1\n",
            "3  Дніпропетровська  20.4  20.4  15.1  12.3   7.1  11.2  11.1   7.1\n",
            "4          Донецька  27.1  21.4  14.0  10.9   6.1   9.8   8.2     —\n"
          ]
        }
      ]
    },
    {
      "cell_type": "code",
      "source": [],
      "metadata": {
        "id": "jXMPbVDmZAzQ"
      },
      "execution_count": null,
      "outputs": []
    },
    {
      "cell_type": "markdown",
      "source": [
        "Task2"
      ],
      "metadata": {
        "id": "K2QeuUjAK-CT"
      }
    },
    {
      "cell_type": "code",
      "source": [
        "# Determine the number of rows and columns\n",
        "print(\"The number of rows and columns:\", df.shape)"
      ],
      "metadata": {
        "colab": {
          "base_uri": "https://localhost:8080/"
        },
        "id": "hVm07y7lJw-m",
        "outputId": "37c234e5-23b6-4b74-eecc-8c375a2d92cc"
      },
      "execution_count": 26,
      "outputs": [
        {
          "output_type": "stream",
          "name": "stdout",
          "text": [
            "The number of rows and columns: (28, 9)\n"
          ]
        }
      ]
    },
    {
      "cell_type": "markdown",
      "source": [
        "Task3"
      ],
      "metadata": {
        "id": "HoT_lIr0LJcM"
      }
    },
    {
      "cell_type": "code",
      "source": [
        "# Replace the value \"-\" in the table with the value NaN\n",
        "df.replace(\"—\", pd.NA, inplace=True)"
      ],
      "metadata": {
        "id": "5OWM48qvLL3k"
      },
      "execution_count": 27,
      "outputs": []
    },
    {
      "cell_type": "markdown",
      "source": [
        "Task4"
      ],
      "metadata": {
        "id": "lxR1zxYULyPA"
      }
    },
    {
      "cell_type": "code",
      "source": [
        "print(\"Column types:\")\n",
        "print(df.dtypes)"
      ],
      "metadata": {
        "colab": {
          "base_uri": "https://localhost:8080/"
        },
        "id": "29bUza0oLz71",
        "outputId": "ab5808d1-5dc6-4cc9-efbd-1d85f958becb"
      },
      "execution_count": 28,
      "outputs": [
        {
          "output_type": "stream",
          "name": "stdout",
          "text": [
            "Column types:\n",
            "Регіон     object\n",
            "1950      float64\n",
            "1960      float64\n",
            "1970      float64\n",
            "1990      float64\n",
            "2000      float64\n",
            "2012      float64\n",
            "2014       object\n",
            "2019       object\n",
            "dtype: object\n"
          ]
        }
      ]
    },
    {
      "cell_type": "markdown",
      "source": [
        "Task5"
      ],
      "metadata": {
        "id": "1CG-MWl2OKAx"
      }
    },
    {
      "cell_type": "code",
      "source": [
        "# Change non-numeric column types to numeric\n",
        "non_numeric_columns = df.columns[df.dtypes == object]\n",
        "df[non_numeric_columns] = df[non_numeric_columns].apply(pd.to_numeric, errors=\"coerce\")"
      ],
      "metadata": {
        "id": "NdeLkFnzOL2o"
      },
      "execution_count": 29,
      "outputs": []
    },
    {
      "cell_type": "markdown",
      "source": [
        "Task6"
      ],
      "metadata": {
        "id": "BKtuxpEWUPmT"
      }
    },
    {
      "cell_type": "code",
      "source": [
        "# Calculate the proportion of blanks in each column\n",
        "missing_percentage = df.isnull().sum() / len(df) * 100\n",
        "print(\"The proportion of spaces in each column:\")\n",
        "print(missing_percentage)"
      ],
      "metadata": {
        "colab": {
          "base_uri": "https://localhost:8080/"
        },
        "id": "XgcNy0IRUTiP",
        "outputId": "c4001c08-2429-49f7-cf2b-ccdcbe2d4f8b"
      },
      "execution_count": 32,
      "outputs": [
        {
          "output_type": "stream",
          "name": "stdout",
          "text": [
            "The proportion of spaces in each column:\n",
            "Регіон    100.000000\n",
            "1950        7.142857\n",
            "1960        3.571429\n",
            "1970        3.571429\n",
            "1990        0.000000\n",
            "2000        0.000000\n",
            "2012        0.000000\n",
            "2014        7.142857\n",
            "2019       14.285714\n",
            "dtype: float64\n"
          ]
        }
      ]
    },
    {
      "cell_type": "markdown",
      "source": [
        "Task7"
      ],
      "metadata": {
        "id": "oOfT5v6XbXn3"
      }
    },
    {
      "cell_type": "code",
      "source": [
        "# Delete data for the whole country (last row of the table)\n",
        "df.drop(df.tail(0).index, inplace=True)"
      ],
      "metadata": {
        "id": "nqrzYwxNbZkb"
      },
      "execution_count": 41,
      "outputs": []
    },
    {
      "cell_type": "markdown",
      "source": [
        "Task8"
      ],
      "metadata": {
        "id": "Ks_CdRQfbxHH"
      }
    },
    {
      "cell_type": "code",
      "source": [
        "# Replace missing data in columns with average values\n",
        "df.fillna(df.mean(), inplace=True)"
      ],
      "metadata": {
        "id": "G-0J_39ib5W2"
      },
      "execution_count": 37,
      "outputs": []
    },
    {
      "cell_type": "markdown",
      "source": [
        "Task9"
      ],
      "metadata": {
        "id": "GfxfrOcycEuq"
      }
    },
    {
      "cell_type": "code",
      "source": [
        "# Obtain a list of regions with a birth rate in 2019 above the national average\n",
        "average_birth_rate_ukraine = df['2019'].mean()\n",
        "regions_above_average_2019 = df[df['2019'] > average_birth_rate_ukraine]['Регіон']\n",
        "print(\"Регіони з народжуваністю у 2019 році вище середньої по Україні:\")\n",
        "print(regions_above_average_2019)"
      ],
      "metadata": {
        "colab": {
          "base_uri": "https://localhost:8080/"
        },
        "id": "6QSADM8-cMQN",
        "outputId": "3e5ee5e4-a928-46df-bd34-c93a09014479"
      },
      "execution_count": 42,
      "outputs": [
        {
          "output_type": "stream",
          "name": "stdout",
          "text": [
            "Регіони з народжуваністю у 2019 році вище середньої по Україні:\n",
            "2    NaN\n",
            "6    NaN\n",
            "8    NaN\n",
            "12   NaN\n",
            "14   NaN\n",
            "16   NaN\n",
            "20   NaN\n",
            "23   NaN\n",
            "25   NaN\n",
            "Name: Регіон, dtype: float64\n"
          ]
        }
      ]
    },
    {
      "cell_type": "markdown",
      "source": [
        "Task10"
      ],
      "metadata": {
        "id": "-DFpBLBMdPsh"
      }
    },
    {
      "cell_type": "code",
      "source": [
        "# Find the region with the highest birth rate in 2014\n",
        "region_with_highest_birth_rate_2014 = df[df['2014'] == df['2014'].max()]['Регіон'].values[0]\n",
        "print(\"The region with the highest birth rate in 2014:\", region_with_highest_birth_rate_2014)\n",
        "\n"
      ],
      "metadata": {
        "colab": {
          "base_uri": "https://localhost:8080/"
        },
        "id": "wKVo_olmdR6J",
        "outputId": "b954b02f-99eb-4aa9-bee9-055058109130"
      },
      "execution_count": 50,
      "outputs": [
        {
          "output_type": "stream",
          "name": "stdout",
          "text": [
            "The region with the highest birth rate in 2014: Крим\n"
          ]
        }
      ]
    },
    {
      "cell_type": "markdown",
      "source": [
        "Task11"
      ],
      "metadata": {
        "id": "WPt3m5y8eU-x"
      }
    },
    {
      "cell_type": "code",
      "source": [
        "# Plotting a bar chart of the birth rate by region in 2019\n",
        "df['2019'] = pd.to_numeric(df['2019'], errors='coerce')\n",
        "df.plot(kind='bar', x='Регіон', y='2019', figsize=(12, 6), legend=None)\n",
        "plt.title('Народжуваність по регіонах у 2019 році')\n",
        "plt.xlabel('Регіон')\n",
        "plt.ylabel('Народжуваність')\n",
        "plt.xticks(rotation=90)\n",
        "plt.show()"
      ],
      "metadata": {
        "colab": {
          "base_uri": "https://localhost:8080/",
          "height": 685
        },
        "id": "wMgnBUEseXXN",
        "outputId": "f06cefea-a72b-4ea6-de78-475e511af78c"
      },
      "execution_count": 53,
      "outputs": [
        {
          "output_type": "display_data",
          "data": {
            "text/plain": [
              "<Figure size 1200x600 with 1 Axes>"
            ],
            "image/png": "[encoded data removed]"
          },
          "metadata": {}
        }
      ]
    }
  ]
}